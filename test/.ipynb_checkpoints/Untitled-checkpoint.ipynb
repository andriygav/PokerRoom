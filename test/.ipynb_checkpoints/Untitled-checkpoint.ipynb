{
 "cells": [
  {
   "cell_type": "code",
   "execution_count": 37,
   "metadata": {
    "collapsed": true
   },
   "outputs": [],
   "source": [
    "import numpy as np\n",
    "import pandas\n",
    "from matplotlib import pyplot as plt\n",
    "from pandas import DataFrame\n",
    "#%matplotlib inline"
   ]
  },
  {
   "cell_type": "code",
   "execution_count": 3,
   "metadata": {
    "collapsed": true
   },
   "outputs": [],
   "source": [
    "from sklearn.metrics import confusion_matrix"
   ]
  },
  {
   "cell_type": "code",
   "execution_count": 10,
   "metadata": {
    "collapsed": true
   },
   "outputs": [],
   "source": [
    "df1 = pandas.DataFrame()\n",
    "df2 = pandas.DataFrame()\n",
    "df3 = pandas.DataFrame()\n",
    "df4 = pandas.DataFrame()"
   ]
  },
  {
   "cell_type": "code",
   "execution_count": 11,
   "metadata": {
    "collapsed": false
   },
   "outputs": [
    {
     "name": "stdout",
     "output_type": "stream",
     "text": [
      "0\n",
      "1\n",
      "2\n",
      "3\n",
      "4\n",
      "5\n",
      "6\n",
      "7\n",
      "8\n",
      "9\n",
      "10\n",
      "11\n",
      "12\n",
      "13\n",
      "14\n",
      "15\n",
      "16\n",
      "17\n",
      "18\n",
      "19\n",
      "20\n",
      "21\n"
     ]
    }
   ],
   "source": [
    "for l in range(15):\n",
    "    #l = 0+k\n",
    "    fans1 = pandas.read_csv(\"fans1\"+str(l)+\"_before.txt\",delimiter = ' ')\n",
    "    fans2 = pandas.read_csv(\"fans2\"+str(l)+\"_before.txt\",delimiter = ' ')\n",
    "    fans3 = pandas.read_csv(\"fans3\"+str(l)+\"_before.txt\",delimiter = ' ')\n",
    "    fans4 = pandas.read_csv(\"fans4\"+str(l)+\"_before.txt\",delimiter = ' ')\n",
    "    \n",
    "    diff = np.zeros(4501)\n",
    "    for i in range(4500):\n",
    "        diff[i] = (fans1.loc[i:i,'my'] - fans1.loc[i:i,'real'])*(fans1.loc[i:i,'my'] - fans1.loc[i:i,'real'])\n",
    "    df1['diff'+str(l)] = diff\n",
    "    diff = np.zeros(2501)\n",
    "    for i in range(2500):\n",
    "        diff[i] = (fans2.loc[i:i,'my'] - fans2.loc[i:i,'real'])*(fans2.loc[i:i,'my'] - fans2.loc[i:i,'real'])\n",
    "    df2['diff'+str(l)] = diff\n",
    "    diff = np.zeros(1301)\n",
    "    for i in range(1300):\n",
    "        diff[i] = (fans3.loc[i:i,'my'] - fans3.loc[i:i,'real'])*(fans3.loc[i:i,'my'] - fans3.loc[i:i,'real'])\n",
    "    df3['diff'+str(l)] = diff\n",
    "    diff = np.zeros(851)\n",
    "    for i in range(850):\n",
    "        diff[i] = (fans4.loc[i:i,'my'] - fans4.loc[i:i,'real'])*(fans4.loc[i:i,'my'] - fans4.loc[i:i,'real'])\n",
    "    df4['diff'+str(l)] = diff\n",
    "    print l"
   ]
  },
  {
   "cell_type": "code",
   "execution_count": 12,
   "metadata": {
    "collapsed": false
   },
   "outputs": [
    {
     "name": "stdout",
     "output_type": "stream",
     "text": [
      "             diff0        diff1        diff2        diff3        diff4  \\\n",
      "count  4501.000000  4501.000000  4501.000000  4501.000000  4501.000000   \n",
      "mean      1.808895     0.054025     0.044211     0.039187     0.037157   \n",
      "std       0.592427     0.047123     0.056767     0.050820     0.047855   \n",
      "min       0.000000     0.000000     0.000000     0.000000     0.000000   \n",
      "25%       1.199680     0.012875     0.003348     0.003392     0.003714   \n",
      "50%       2.355372     0.023140     0.012987     0.013241     0.013463   \n",
      "75%       2.384251     0.095243     0.075786     0.068669     0.065139   \n",
      "max       2.398500     0.201745     0.294781     0.282093     0.241303   \n",
      "\n",
      "             diff5        diff6        diff7        diff8        diff9  \\\n",
      "count  4501.000000  4501.000000  4501.000000  4501.000000  4501.000000   \n",
      "mean      0.036530     0.036398     0.036424     0.036490     0.036559   \n",
      "std       0.047066     0.047079     0.047321     0.047593     0.047836   \n",
      "min       0.000000     0.000000     0.000000     0.000000     0.000000   \n",
      "25%       0.003745     0.003614     0.003464     0.003264     0.003098   \n",
      "50%       0.013379     0.013129     0.012952     0.012837     0.012731   \n",
      "75%       0.063325     0.062935     0.062895     0.063150     0.063326   \n",
      "max       0.211759     0.189512     0.178035     0.178691     0.179356   \n",
      "\n",
      "          ...            diff12       diff13       diff14       diff15  \\\n",
      "count     ...       4501.000000  4501.000000  4501.000000  4501.000000   \n",
      "mean      ...          0.036667     0.036706     0.036735     0.036792   \n",
      "std       ...          0.048204     0.048340     0.048449     0.048746   \n",
      "min       ...          0.000000     0.000000     0.000000     0.000000   \n",
      "25%       ...          0.002909     0.002827     0.002795     0.002638   \n",
      "50%       ...          0.012538     0.012498     0.012465     0.012440   \n",
      "75%       ...          0.063190     0.063686     0.064222     0.063799   \n",
      "max       ...          0.183816     0.186455     0.188808     0.197324   \n",
      "\n",
      "            diff16       diff17       diff18       diff19       diff20  \\\n",
      "count  4501.000000  4501.000000  4501.000000  4501.000000  4501.000000   \n",
      "mean      0.036768     0.033320     0.030036     0.028734     0.028563   \n",
      "std       0.048790     0.041536     0.033247     0.029343     0.028679   \n",
      "min       0.000000     0.000000     0.000000     0.000000     0.000000   \n",
      "25%       0.002705     0.002897     0.001565     0.000559     0.000443   \n",
      "50%       0.012485     0.012857     0.016180     0.022363     0.024660   \n",
      "75%       0.063510     0.058231     0.051527     0.050470     0.050052   \n",
      "max       0.201535     0.189686     0.141996     0.115646     0.115110   \n",
      "\n",
      "            diff21  \n",
      "count  4501.000000  \n",
      "mean      0.028518  \n",
      "std       0.028303  \n",
      "min       0.000000  \n",
      "25%       0.000393  \n",
      "50%       0.025923  \n",
      "75%       0.049909  \n",
      "max       0.113265  \n",
      "\n",
      "[8 rows x 22 columns]\n",
      "             diff0        diff1        diff2        diff3        diff4  \\\n",
      "count  2501.000000  2501.000000  2501.000000  2501.000000  2501.000000   \n",
      "mean      1.278715     1.184009     0.274298     0.237438     0.207198   \n",
      "std       0.889131     0.838424     0.363889     0.307601     0.302872   \n",
      "min       0.000000     0.000000     0.000000     0.000000     0.000000   \n",
      "25%       0.423857     0.360336     0.001271     0.044761     0.030546   \n",
      "50%       1.194232     1.086842     0.151826     0.143746     0.108889   \n",
      "75%       2.362237     2.218941     0.283859     0.309182     0.252125   \n",
      "max       2.388057     2.231334     1.740323     3.697021     3.222032   \n",
      "\n",
      "             diff5        diff6        diff7        diff8        diff9  \\\n",
      "count  2501.000000  2501.000000  2501.000000  2501.000000  2501.000000   \n",
      "mean      0.194018     0.188075     0.184064     0.181038     0.178724   \n",
      "std       0.301249     0.301383     0.302330     0.303287     0.303950   \n",
      "min       0.000000     0.000000     0.000000     0.000000     0.000000   \n",
      "25%       0.021357     0.017224     0.014871     0.012745     0.011101   \n",
      "50%       0.099104     0.091784     0.085624     0.081522     0.080070   \n",
      "75%       0.230764     0.224560     0.217958     0.211727     0.206786   \n",
      "max       2.866161     2.678548     2.587713     2.542130     2.518426   \n",
      "\n",
      "          ...            diff12       diff13       diff14       diff15  \\\n",
      "count     ...       2501.000000  2501.000000  2501.000000  2501.000000   \n",
      "mean      ...          0.175447     0.174222     0.173169     0.169247   \n",
      "std       ...          0.304428     0.304399     0.304277     0.303253   \n",
      "min       ...          0.000000     0.000000     0.000000     0.000000   \n",
      "25%       ...          0.009208     0.008517     0.008062     0.007215   \n",
      "50%       ...          0.076639     0.075907     0.075803     0.072736   \n",
      "75%       ...          0.199936     0.197039     0.193603     0.183062   \n",
      "max       ...          2.499608     2.496488     2.495051     2.489955   \n",
      "\n",
      "            diff16       diff17       diff18       diff19       diff20  \\\n",
      "count  2501.000000  2501.000000  2501.000000  2501.000000  2501.000000   \n",
      "mean      0.166668     0.132646     0.130129     0.129718     0.129634   \n",
      "std       0.302546     0.309442     0.297969     0.293794     0.293073   \n",
      "min       0.000000     0.000000     0.000000     0.000000     0.000000   \n",
      "25%       0.007238     0.004695     0.004234     0.004289     0.004300   \n",
      "50%       0.070519     0.020327     0.017845     0.017244     0.017119   \n",
      "75%       0.175464     0.097164     0.101999     0.103440     0.102917   \n",
      "max       2.473917     2.185927     2.160089     2.183113     2.163709   \n",
      "\n",
      "            diff21  \n",
      "count  2501.000000  \n",
      "mean      0.129692  \n",
      "std       0.292869  \n",
      "min       0.000000  \n",
      "25%       0.004258  \n",
      "50%       0.017803  \n",
      "75%       0.101589  \n",
      "max       2.159504  \n",
      "\n",
      "[8 rows x 22 columns]\n",
      "             diff0        diff1        diff2        diff3        diff4  \\\n",
      "count  1301.000000  1301.000000  1301.000000  1301.000000  1301.000000   \n",
      "mean      1.255128     1.201518     1.150733     1.102539     0.075684   \n",
      "std       0.675291     0.661863     0.648906     0.636355     0.116075   \n",
      "min       0.000000     0.000000     0.000000     0.000000     0.000000   \n",
      "25%       0.713525     0.671793     0.631048     0.593912     0.009045   \n",
      "50%       1.203233     1.148822     1.097235     1.048242     0.022004   \n",
      "75%       1.212505     1.155756     1.101855     1.050607     0.093681   \n",
      "max       2.406225     2.325982     2.249208     2.175675     1.153568   \n",
      "\n",
      "             diff5        diff6        diff7        diff8        diff9  \\\n",
      "count  1301.000000  1301.000000  1301.000000  1301.000000  1301.000000   \n",
      "mean      0.082652     0.084551     0.083116     0.080567     0.076909   \n",
      "std       0.134846     0.137569     0.136340     0.134084     0.130984   \n",
      "min       0.000000     0.000000     0.000000     0.000000     0.000000   \n",
      "25%       0.004900     0.004397     0.004166     0.003957     0.003555   \n",
      "50%       0.027668     0.023200     0.021148     0.019374     0.018140   \n",
      "75%       0.067303     0.076515     0.074681     0.069585     0.062649   \n",
      "max       0.962175     0.885236     0.827218     0.772604     0.742780   \n",
      "\n",
      "          ...            diff12       diff13       diff14       diff15  \\\n",
      "count     ...       1301.000000  1301.000000  1301.000000  1301.000000   \n",
      "mean      ...          0.064744     0.057979     0.054578     0.060932   \n",
      "std       ...          0.120967     0.114234     0.109903     0.120958   \n",
      "min       ...          0.000000     0.000000     0.000000     0.000000   \n",
      "25%       ...          0.002718     0.002592     0.003171     0.003047   \n",
      "50%       ...          0.014867     0.012648     0.010457     0.012384   \n",
      "75%       ...          0.041820     0.035313     0.035198     0.038657   \n",
      "max       ...          0.712631     0.710292     0.699608     0.721509   \n",
      "\n",
      "            diff16       diff17       diff18       diff19       diff20  \\\n",
      "count  1301.000000  1301.000000  1301.000000  1301.000000  1301.000000   \n",
      "mean      0.075618     0.086590     0.091699     0.096995     0.097972   \n",
      "std       0.134562     0.136074     0.139985     0.144248     0.145084   \n",
      "min       0.000000     0.000000     0.000000     0.000000     0.000000   \n",
      "25%       0.006997     0.012348     0.013741     0.016173     0.017025   \n",
      "50%       0.022822     0.034907     0.037161     0.041298     0.042119   \n",
      "75%       0.057318     0.083055     0.089289     0.095124     0.094487   \n",
      "max       0.744496     0.743416     0.804021     0.836962     0.836440   \n",
      "\n",
      "            diff21  \n",
      "count  1301.000000  \n",
      "mean      0.095064  \n",
      "std       0.143038  \n",
      "min       0.000000  \n",
      "25%       0.015948  \n",
      "50%       0.040680  \n",
      "75%       0.091359  \n",
      "max       0.823867  \n",
      "\n",
      "[8 rows x 22 columns]\n",
      "            diff0       diff1       diff2       diff3       diff4       diff5  \\\n",
      "count  851.000000  851.000000  851.000000  851.000000  851.000000  851.000000   \n",
      "mean     1.123178    1.083253    1.044945    1.008153    0.972780    0.035368   \n",
      "std      0.444133    0.437300    0.430644    0.424149    0.417797    0.078423   \n",
      "min      0.000000    0.000000    0.000000    0.000000    0.000000    0.000000   \n",
      "25%      0.831539    0.796269    0.762297    0.729939    0.699095    0.005015   \n",
      "50%      1.195729    1.155427    1.116797    1.079712    1.044051    0.011520   \n",
      "75%      1.208003    1.165339    1.124342    1.084912    1.046954    0.016543   \n",
      "max      2.406280    2.344797    2.285328    2.227774    2.172039    0.350211   \n",
      "\n",
      "            diff6       diff7       diff8       diff9     ...          diff12  \\\n",
      "count  851.000000  851.000000  851.000000  851.000000     ...      851.000000   \n",
      "mean     0.032035    0.029595    0.027559    0.025790     ...        0.023187   \n",
      "std      0.071547    0.067655    0.064753    0.062184     ...        0.057403   \n",
      "min      0.000000    0.000000    0.000000    0.000000     ...        0.000000   \n",
      "25%      0.003381    0.002991    0.002709    0.002689     ...        0.002677   \n",
      "50%      0.010716    0.009711    0.008939    0.008431     ...        0.007061   \n",
      "75%      0.019479    0.020387    0.019349    0.017618     ...        0.013239   \n",
      "max      0.375306    0.381726    0.373169    0.353969     ...        0.344688   \n",
      "\n",
      "           diff13      diff14      diff15      diff16      diff17      diff18  \\\n",
      "count  851.000000  851.000000  851.000000  851.000000  851.000000  851.000000   \n",
      "mean     0.022577    0.022565    0.024327    0.023862    0.020720    0.021485   \n",
      "std      0.055205    0.053301    0.050679    0.051371    0.063714    0.067384   \n",
      "min      0.000000    0.000000    0.000000    0.000000    0.000000    0.000000   \n",
      "25%      0.002419    0.001629    0.001837    0.001864    0.000803    0.000827   \n",
      "50%      0.006306    0.006267    0.009163    0.008406    0.003532    0.003806   \n",
      "75%      0.014416    0.017553    0.024992    0.022339    0.011417    0.011811   \n",
      "max      0.366809    0.390205    0.448967    0.448001    0.499633    0.540672   \n",
      "\n",
      "           diff19      diff20      diff21  \n",
      "count  851.000000  851.000000  851.000000  \n",
      "mean     0.022433    0.023297    0.023981  \n",
      "std      0.069900    0.071596    0.072693  \n",
      "min      0.000000    0.000000    0.000000  \n",
      "25%      0.001097    0.001203    0.001289  \n",
      "50%      0.004403    0.004963    0.005257  \n",
      "75%      0.012665    0.013538    0.013809  \n",
      "max      0.565506    0.587470    0.606246  \n",
      "\n",
      "[8 rows x 22 columns]\n"
     ]
    }
   ],
   "source": [
    "print (df1.describe())\n",
    "print (df2.describe())\n",
    "print (df3.describe())\n",
    "print (df4.describe())"
   ]
  },
  {
   "cell_type": "code",
   "execution_count": 32,
   "metadata": {
    "collapsed": false
   },
   "outputs": [],
   "source": [
    "mean1 = df1.mean()\n",
    "mean2 = df2.mean()\n",
    "mean3 = df3.mean()\n",
    "mean4 = df4.mean()\n",
    "#f, (ax1, ax2, ax3, ax4) = plt.subplots(4, 1, sharey=True)\n",
    "x = np.linspace(0,16,16)\n",
    "#ax2.plot(x,mean2)\n",
    "#ax3.plot(x,mean3)\n",
    "#ax4.plot(x,mean4)"
   ]
  },
  {
   "cell_type": "code",
   "execution_count": 38,
   "metadata": {
    "collapsed": false
   },
   "outputs": [
    {
     "data": {
      "text/plain": [
       "[<matplotlib.lines.Line2D at 0x7f2d8d554ed0>]"
      ]
     },
     "execution_count": 38,
     "metadata": {},
     "output_type": "execute_result"
    },
    {
     "data": {
      "image/png": "[encoded data removed]",
      "text/plain": [
       "<matplotlib.figure.Figure at 0x7f2d8d6539d0>"
      ]
     },
     "metadata": {},
     "output_type": "display_data"
    }
   ],
   "source": [
    "plt.plot(x,mean1[0:16])"
   ]
  },
  {
   "cell_type": "code",
   "execution_count": 34,
   "metadata": {
    "collapsed": false
   },
   "outputs": [
    {
     "data": {
      "text/plain": [
       "[<matplotlib.lines.Line2D at 0x7f2d8d7909d0>]"
      ]
     },
     "execution_count": 34,
     "metadata": {},
     "output_type": "execute_result"
    },
    {
     "data": {
      "image/png": "[encoded data removed]",
      "text/plain": [
       "<matplotlib.figure.Figure at 0x7f2d8d88fe90>"
      ]
     },
     "metadata": {},
     "output_type": "display_data"
    }
   ],
   "source": [
    "plt.plot(x,mean2[0:16])"
   ]
  },
  {
   "cell_type": "code",
   "execution_count": 35,
   "metadata": {
    "collapsed": false
   },
   "outputs": [
    {
     "data": {
      "text/plain": [
       "[<matplotlib.lines.Line2D at 0x7f2d8d6d7810>]"
      ]
     },
     "execution_count": 35,
     "metadata": {},
     "output_type": "execute_result"
    },
    {
     "data": {
      "image/png": "[encoded data removed]",
      "text/plain": [
       "<matplotlib.figure.Figure at 0x7f2d8d7c7b50>"
      ]
     },
     "metadata": {},
     "output_type": "display_data"
    }
   ],
   "source": [
    "plt.plot(x,mean3[0:16])"
   ]
  },
  {
   "cell_type": "code",
   "execution_count": 44,
   "metadata": {
    "collapsed": false
   },
   "outputs": [
    {
     "data": {
      "image/png": "[encoded data removed]",
      "text/plain": [
       "<matplotlib.figure.Figure at 0x7f2d8d2b0710>"
      ]
     },
     "metadata": {},
     "output_type": "display_data"
    }
   ],
   "source": [
    "plt.plot(x,mean4[0:16])\n",
    "plt.ylabel('mean std')\n",
    "plt.xlabel('number epoh')\n",
    "plt.savefig('river.png')"
   ]
  },
  {
   "cell_type": "code",
   "execution_count": 26,
   "metadata": {
    "collapsed": false
   },
   "outputs": [
    {
     "name": "stdout",
     "output_type": "stream",
     "text": [
      "0.427470217239\n",
      "0.583832335329\n"
     ]
    }
   ],
   "source": [
    "fans10 = pandas.read_csv(\"fans30_before.txt\",delimiter = ' ')\n",
    "fans11 = pandas.read_csv(\"fans317_before.txt\",delimiter = ' ')\n",
    "\n",
    "y_pred0 = []\n",
    "for i in range(fans10.shape[0]):\n",
    "    if fans10.loc[i:i,'my'].values > 0.1:\n",
    "        y_pred0.append(1)\n",
    "    if fans10.loc[i:i,'my'].values >= -0.1 and fans10.loc[i:i,'my'].values <= 0.1:\n",
    "        y_pred0.append(0)\n",
    "    if fans10.loc[i:i,'my'].values < -0.1:\n",
    "        y_pred0.append(-1)\n",
    "y_true0 = []\n",
    "for i in range(fans10.shape[0]):\n",
    "    if fans10.loc[i:i,'real'].values > 0.1:\n",
    "        y_true0.append(1)\n",
    "    if fans10.loc[i:i,'real'].values >= -0.1 and fans10.loc[i:i,'real'].values <= 0.1:\n",
    "        y_true0.append(0)\n",
    "    if fans10.loc[i:i,'real'].values < -0.1:\n",
    "        y_true0.append(-1)\n",
    "        \n",
    "matrix0 = confusion_matrix(y_true0, y_pred0)\n",
    "diag0 = matrix0.diagonal().sum()\n",
    "print float(diag0)/matrix0.sum()\n",
    "        \n",
    "y_pred1 = []       \n",
    "for i in range(fans11.shape[0]):\n",
    "    if fans11.loc[i:i,'my'].values > 0.1:\n",
    "        y_pred1.append(1)\n",
    "    if fans11.loc[i:i,'my'].values >= -0.1 and fans11.loc[i:i,'my'].values <= 0.1:\n",
    "        y_pred1.append(0)\n",
    "    if fans11.loc[i:i,'my'].values < -0.1:\n",
    "        y_pred1.append(-1)\n",
    "y_true1 = []\n",
    "for i in range(fans11.shape[0]):\n",
    "    if fans11.loc[i:i,'real'].values > 0.1:\n",
    "        y_true1.append(1)\n",
    "    if fans11.loc[i:i,'real'].values >= -0.1 and fans11.loc[i:i,'real'].values <= 0.1:\n",
    "        y_true1.append(0)\n",
    "    if fans11.loc[i:i,'real'].values < -0.1:\n",
    "        y_true1.append(-1)\n",
    "\n",
    "matrix1 = confusion_matrix(y_true1, y_pred1)\n",
    "diag1 = matrix1.diagonal().sum()\n",
    "print float(diag1)/matrix1.sum()"
   ]
  },
  {
   "cell_type": "code",
   "execution_count": null,
   "metadata": {
    "collapsed": true
   },
   "outputs": [],
   "source": [
    "matrix = confusion_matrix(y_true, y_pred)\n",
    "diag = matrix.diagonal().sum()\n",
    "print float(diag)/matrix.sum()"
   ]
  }
 ],
 "metadata": {
  "kernelspec": {
   "display_name": "Python [Root]",
   "language": "python",
   "name": "Python [Root]"
  },
  "language_info": {
   "codemirror_mode": {
    "name": "ipython",
    "version": 2
   },
   "file_extension": ".py",
   "mimetype": "text/x-python",
   "name": "python",
   "nbconvert_exporter": "python",
   "pygments_lexer": "ipython2",
   "version": "2.7.12"
  }
 },
 "nbformat": 4,
 "nbformat_minor": 0
}
